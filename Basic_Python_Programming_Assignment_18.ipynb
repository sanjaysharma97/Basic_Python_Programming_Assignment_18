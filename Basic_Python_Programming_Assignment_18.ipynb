{
 "cells": [
  {
   "cell_type": "markdown",
   "id": "b601d331",
   "metadata": {},
   "source": [
    "# Question 1 Create a function that takes a list of non-negative integers and strings and return a new list without the strings.\n",
    "Examples\n",
    "filter_list([1, 2,\"a\", \"b\"]) ➞ [1, 2]\n",
    "filter_list([1, \"a\", \"b\", 0, 15]) ➞ [1, 0, 15]\n",
    "filter_list([1, 2, \"aasf\", \"1\", \"123\", 123]) ➞ [1, 2, 123]\n",
    "\n",
    "ANSWER-"
   ]
  },
  {
   "cell_type": "code",
   "execution_count": 8,
   "id": "91b5ad80",
   "metadata": {},
   "outputs": [
    {
     "name": "stdout",
     "output_type": "stream",
     "text": [
      "Enter a list of non-negative integers and strings, separated by commas: 12,\"s\",2,\"90\",\"A\",\"INEURON\",900\n",
      "New list without strings:  [12, 2, 900]\n"
     ]
    }
   ],
   "source": [
    "def remove_strings(lst):\n",
    "    return [x for x in lst if type(x) == int]\n",
    "\n",
    "lst = input(\"Enter a list of non-negative integers and strings, separated by commas: \")\n",
    "lst = lst.split(\",\")\n",
    "\n",
    "lst = [x.strip() for x in lst]\n",
    "\n",
    "lst = [int(x) if x.isnumeric() and int(x) >= 0 else x for x in lst]\n",
    "lst = remove_strings(lst)\n",
    "\n",
    "print(\"New list without strings: \", lst)\n"
   ]
  },
  {
   "cell_type": "markdown",
   "id": "abc0b649",
   "metadata": {},
   "source": [
    "# Question 2 The \"Reverser\" takes a string as input and returns that string in reverse order, with the opposite case.\n",
    "Examples\n",
    "reverse(\"Hello World\") ➞ \"DLROw OLLEh\"\n",
    "reverse(\"ReVeRsE\") ➞ \"eSrEvEr\"\n",
    "reverse(\"Radar\") ➞ \"RADAr\"\n",
    "\n",
    "ANSWER-"
   ]
  },
  {
   "cell_type": "code",
   "execution_count": 10,
   "id": "6748b506",
   "metadata": {},
   "outputs": [
    {
     "name": "stdout",
     "output_type": "stream",
     "text": [
      "enter a string: Hello World\n",
      "Hello World-> DLROw OLLEh\n",
      "enter a string: ReVeRsE\n",
      "ReVeRsE-> eSrEvEr\n",
      "enter a string: Radar\n",
      "Radar-> RADAr\n",
      "enter a string: SanJAY\n",
      "SanJAY-> yajNAs\n"
     ]
    }
   ],
   "source": [
    "def reverse(in_string):\n",
    "    print(f'{in_string}-> {in_string[::-1].swapcase()}')\n",
    "for i in range(4):\n",
    "    reverse(input(\"enter a string: \"))"
   ]
  },
  {
   "cell_type": "markdown",
   "id": "374a5a12",
   "metadata": {},
   "source": [
    "# Question 3 You can assign variables from lists like this:\n",
    "lst = [1, 2, 3, 4, 5, 6]\n",
    "first = lst[0]\n",
    "middle = lst[1:-1]\n",
    "last = lst[-1]\n",
    "print(first) ➞ outputs 1\n",
    "print(middle) ➞ outputs [2, 3, 4, 5]\n",
    "print(last) ➞ outputs 6\n",
    "With Python 3, you can assign variables from lists in a much more succinct way. Create\n",
    "variables first, middle and last from the given list using destructuring assignment\n",
    "(check the Resources tab for some examples), where:\n",
    "first ➞ 1\n",
    "middle ➞ [2, 3, 4, 5]\n",
    "last ➞ 6\n",
    "\n",
    "Your task is to unpack the list writeyourcodehere into three variables, being first,\n",
    "middle, and last, with middle being everything in between the first and last element. Then\n",
    "print all three variables.\n",
    "\n",
    "ANSWER-"
   ]
  },
  {
   "cell_type": "code",
   "execution_count": 5,
   "id": "ec72a893",
   "metadata": {},
   "outputs": [
    {
     "name": "stdout",
     "output_type": "stream",
     "text": [
      "Enter a list of integers (comma-separated): 10,20,30,40,50,70,90,130,100\n",
      "User list: [10, 20, 30, 40, 50, 70, 90, 130, 100]\n",
      "10\n",
      "[20, 30, 40, 50, 70, 90, 130]\n",
      "100\n"
     ]
    }
   ],
   "source": [
    "lst = []\n",
    "\n",
    "while True:\n",
    "    try:\n",
    "        user_input = input(\"Enter a list of integers (comma-separated): \")\n",
    "        lst = [int(num) for num in user_input.split(\",\")]\n",
    "        break\n",
    "    except ValueError:\n",
    "        print(\"Invalid input. Please enter integers separated by commas.\")\n",
    "first,*middle,last=lst\n",
    "print(\"User list:\", lst)\n",
    "print(first)\n",
    "print(middle)\n",
    "print(last)\n"
   ]
  },
  {
   "cell_type": "markdown",
   "id": "2affb43a",
   "metadata": {},
   "source": [
    "# Question 4 Write a function that calculates the factorial of a number recursively.\n",
    "Examples\n",
    "factorial(5) ➞ 120\n",
    "factorial(3) ➞ 6\n",
    "factorial(1) ➞ 1\n",
    "factorial(0) ➞ 1\n",
    "\n",
    "ANSWER-"
   ]
  },
  {
   "cell_type": "code",
   "execution_count": 1,
   "id": "7062d72d",
   "metadata": {},
   "outputs": [
    {
     "name": "stdout",
     "output_type": "stream",
     "text": [
      "enter a number for factorial: 5\n",
      "factorial(5) , 120\n",
      "enter a number for factorial: 3\n",
      "factorial(3) , 6\n",
      "enter a number for factorial: 1\n",
      "factorial(1) , 1\n",
      "enter a number for factorial: 0\n",
      "factorial(0) , 1\n"
     ]
    }
   ],
   "source": [
    "def recur_fun(n):\n",
    "    if n==0:\n",
    "        return 1\n",
    "    return n*recur_fun(n-1)\n",
    "for i in range(4):\n",
    "    n=int(input(\"enter a number for factorial: \"))\n",
    "    print(f'factorial({n}) , {recur_fun(n)}')\n",
    "\n"
   ]
  },
  {
   "cell_type": "markdown",
   "id": "681a42cd",
   "metadata": {},
   "source": [
    "# Question 5 Write a function that moves all elements of one type to the end of the list.\n",
    "Examples move_to_end([1, 3, 2, 4, 4, 1], 1) ➞ [3, 2, 4, 4, 1, 1]\n",
    "# Move all the 1s to the end of the array.\n",
    "move_to_end([7, 8, 9, 1, 2, 3, 4], 9) ➞ [7, 8, 1, 2, 3, 4, 9]\n",
    "move_to_end([\"a\", \"a\", \"a\", \"b\"], \"a\") ➞ [\"b\", \"a\", \"a\", \"a\"]\n",
    "\n",
    "ANSWER-"
   ]
  },
  {
   "cell_type": "code",
   "execution_count": 2,
   "id": "a601d5fa",
   "metadata": {},
   "outputs": [
    {
     "name": "stdout",
     "output_type": "stream",
     "text": [
      "move_to_end([1, 3, 2, 4, 4, 1], 1) ➞ [3, 2, 4, 4, 1, 1]\n",
      "move_to_end([7, 8, 9, 1, 2, 3, 4], 9) ➞ [7, 8, 1, 2, 3, 4, 9]\n",
      "move_to_end([\"a\", \"a\", \"a\", \"b\"], \"a\") ➞ ['b', 'a', 'a', 'a']\n"
     ]
    }
   ],
   "source": [
    "def move_to_end(list,num):\n",
    "    first_end=[]\n",
    "    second_end=[]\n",
    "    for i in list:\n",
    "        if i==num:\n",
    "            second_end.append(i)\n",
    "        else:\n",
    "            first_end.append(i)\n",
    "            \n",
    "    first_end.extend(second_end)\n",
    "    return first_end\n",
    "\n",
    "\n",
    "print(f'move_to_end([1, 3, 2, 4, 4, 1], 1) ➞ {move_to_end([1, 3, 2, 4, 4, 1], 1)}')\n",
    "print(f'move_to_end([7, 8, 9, 1, 2, 3, 4], 9) ➞ {move_to_end([7, 8, 9, 1, 2, 3, 4], 9)}')\n",
    "print(f'move_to_end([\"a\", \"a\", \"a\", \"b\"], \"a\") ➞ {move_to_end([\"a\", \"a\", \"a\", \"b\"], \"a\")}')"
   ]
  },
  {
   "cell_type": "code",
   "execution_count": null,
   "id": "a315f8de",
   "metadata": {},
   "outputs": [],
   "source": []
  }
 ],
 "metadata": {
  "kernelspec": {
   "display_name": "Python 3 (ipykernel)",
   "language": "python",
   "name": "python3"
  },
  "language_info": {
   "codemirror_mode": {
    "name": "ipython",
    "version": 3
   },
   "file_extension": ".py",
   "mimetype": "text/x-python",
   "name": "python",
   "nbconvert_exporter": "python",
   "pygments_lexer": "ipython3",
   "version": "3.9.12"
  }
 },
 "nbformat": 4,
 "nbformat_minor": 5
}
